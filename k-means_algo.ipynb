{
 "cells": [
  {
   "cell_type": "markdown",
   "metadata": {},
   "source": [
    "# Implementing k-means algorithm"
   ]
  },
  {
   "cell_type": "markdown",
   "metadata": {},
   "source": [
    "k-means is a clustering algorithm, used in unsupervised learning."
   ]
  },
  {
   "cell_type": "markdown",
   "metadata": {},
   "source": [
    "## Imports"
   ]
  },
  {
   "cell_type": "code",
   "execution_count": 268,
   "metadata": {},
   "outputs": [],
   "source": [
    "import math\n",
    "import random\n",
    "import numpy as np\n",
    "import matplotlib.pyplot as plt"
   ]
  },
  {
   "cell_type": "markdown",
   "metadata": {},
   "source": [
    "## k-means algorithm"
   ]
  },
  {
   "cell_type": "code",
   "execution_count": 265,
   "metadata": {},
   "outputs": [],
   "source": [
    "\"\"\"\n",
    "    euclidean-distance:\n",
    "    defines the euclidean distance between two points with two dimensions\n",
    "    x,y -> points represented as tuples with two dimensions\n",
    "\"\"\"\n",
    "def euclidean_distance(x, y):\n",
    "    return round(math.sqrt((x[0] - y[0])**2 + (x[1] - y[1])**2), 3)"
   ]
  },
  {
   "cell_type": "code",
   "execution_count": 266,
   "metadata": {},
   "outputs": [],
   "source": [
    "\"\"\"\n",
    "    initialize_centroids:\n",
    "    returns k unique random points from a sample data_points\n",
    "    data_points -> a list of points\n",
    "    k -> no of clusters\n",
    "\"\"\"\n",
    "def initialize_centroids(data_points, k):\n",
    "    # k random points\n",
    "    random_indices = random.sample(range(0, len(data_points)), k)\n",
    "    random_points = [data_points[i] for i in random_indices]\n",
    "    return random_points"
   ]
  },
  {
   "cell_type": "code",
   "execution_count": 272,
   "metadata": {},
   "outputs": [],
   "source": [
    "\"\"\"\n",
    "    k_means algorithm\n",
    "    data_points -> a list of tuples with two co-ordinates\n",
    "    k -> no of clusters\n",
    "    n -> no of iterations to run\n",
    "\"\"\"\n",
    "def k_means(data_points, k, n):\n",
    "    \n",
    "    centroids = initialize_centroids(data_points, k) # get k random points as a list of tuples\n",
    "    \n",
    "    while n != 0: # run the alogrithm n times\n",
    "        # find distance b/w centroids and other points\n",
    "        distances = []\n",
    "        for c in centroids:\n",
    "            distances.append([euclidean_distance(c, data_points[j]) for j in range(0, len(data_points))])\n",
    "        distances = list(zip(*distances))\n",
    "\n",
    "        # group points into clusters based on their minimum distance to the centroids \n",
    "        clusters = {}\n",
    "        for d in range(0, len(data_points)):\n",
    "            if clusters.get(np.argmin(distances[d])) != None:\n",
    "                clusters[np.argmin(distances[d])].append(data_points[d])\n",
    "            else:\n",
    "                clusters[np.argmin(distances[d])] = []\n",
    "                clusters[np.argmin(distances[d])].append(data_points[d])\n",
    "\n",
    "        # take the mean of points in each cluster and use them as new centroids\n",
    "        new_centroids = []\n",
    "        for key in clusters:\n",
    "            values = clusters.get(key)\n",
    "            new_centroids.append((np.mean([points[0] for points in values]), np.mean([points[1] for points in values])))\n",
    "        centroids = new_centroids\n",
    "        n-=1 # after one iteration decrement the iterations to run\n",
    "    \n",
    "    # return the clusters and the new_centroids\n",
    "    return (new_centroids, clusters)"
   ]
  },
  {
   "cell_type": "markdown",
   "metadata": {},
   "source": [
    "## k-means example"
   ]
  },
  {
   "cell_type": "markdown",
   "metadata": {},
   "source": [
    "### Create Data"
   ]
  },
  {
   "cell_type": "code",
   "execution_count": 284,
   "metadata": {},
   "outputs": [
    {
     "name": "stdout",
     "output_type": "stream",
     "text": [
      "[(2, 5), (3, 6), (4, 7), (5, 8), (10, 10), (11, 11), (13, 13), (14, 14), (20, 20), (21, 21), (22, 22), (23, 23), (24, 24)]\n"
     ]
    }
   ],
   "source": [
    "# Create a collection of 30 random points\n",
    "x = [2, 3, 4, 5, 10, 11, 13, 14, 20, 21, 22, 23, 24]\n",
    "y = [5, 6, 7, 8, 10, 11, 13, 14, 20, 21, 22, 23, 24]\n",
    "data_points = list(zip(x, y))\n",
    "print(data_points)"
   ]
  },
  {
   "cell_type": "markdown",
   "metadata": {},
   "source": [
    "### Visualize Data"
   ]
  },
  {
   "cell_type": "code",
   "execution_count": 283,
   "metadata": {},
   "outputs": [
    {
     "data": {
      "image/png": "[encoded data removed]",
      "text/plain": [
       "<Figure size 432x288 with 1 Axes>"
      ]
     },
     "metadata": {},
     "output_type": "display_data"
    }
   ],
   "source": [
    "plt.scatter(x, y)\n",
    "plt.xlabel('X')\n",
    "plt.ylabel('Y')\n",
    "plt.title('Clustering Data')\n",
    "plt.show()"
   ]
  },
  {
   "cell_type": "markdown",
   "metadata": {},
   "source": [
    "### Find Clusters"
   ]
  },
  {
   "cell_type": "code",
   "execution_count": 293,
   "metadata": {},
   "outputs": [],
   "source": [
    "# Find out the centroids and clusters\n",
    "k = 3\n",
    "iterations = 10\n",
    "centroids, clusters = k_means(data_points, k, iterations)\n",
    "d = {i: centroids[i] for i in range(len(centroids))}"
   ]
  },
  {
   "cell_type": "markdown",
   "metadata": {},
   "source": [
    "### Visualize Clusters"
   ]
  },
  {
   "cell_type": "code",
   "execution_count": 294,
   "metadata": {},
   "outputs": [
    {
     "name": "stdout",
     "output_type": "stream",
     "text": [
      "\n"
     ]
    },
    {
     "data": {
      "image/png": "[encoded data removed]",
      "text/plain": [
       "<Figure size 432x432 with 1 Axes>"
      ]
     },
     "metadata": {},
     "output_type": "display_data"
    }
   ],
   "source": [
    "customPalette = ['#D3500C', '#39C8C6', '#630C3A', '#FFB139', '#405d27', '#034f84']\n",
    "#create a new figure\n",
    "plt.figure(figsize=(6,6))\n",
    "\n",
    "#loop through labels and plot each cluster\n",
    "for i, label in enumerate(d.keys()):\n",
    "    for j in clusters[label]:\n",
    "        #add data points \n",
    "        plt.scatter(x=j[0], \n",
    "                    y=j[1], \n",
    "                    color=customPalette[i], \n",
    "                    alpha=0.7)\n",
    "    \n",
    "    #add label\n",
    "    plt.annotate(label, \n",
    "                 d[label],\n",
    "                 horizontalalignment='center',\n",
    "                 verticalalignment='center',\n",
    "                 size=20, weight='bold',\n",
    "                 color=customPalette[i]) \n",
    "plt.xlabel('X')\n",
    "plt.ylabel('Y')\n",
    "plt.title('%d Clusters' % k)\n",
    "print()"
   ]
  },
  {
   "cell_type": "code",
   "execution_count": null,
   "metadata": {},
   "outputs": [],
   "source": []
  }
 ],
 "metadata": {
  "kernelspec": {
   "display_name": "Python 3",
   "language": "python",
   "name": "python3"
  },
  "language_info": {
   "codemirror_mode": {
    "name": "ipython",
    "version": 3
   },
   "file_extension": ".py",
   "mimetype": "text/x-python",
   "name": "python",
   "nbconvert_exporter": "python",
   "pygments_lexer": "ipython3",
   "version": "3.6.5"
  },
  "toc": {
   "nav_menu": {},
   "number_sections": true,
   "sideBar": true,
   "skip_h1_title": false,
   "title_cell": "Table of Contents",
   "title_sidebar": "Contents",
   "toc_cell": false,
   "toc_position": {},
   "toc_section_display": true,
   "toc_window_display": false
  }
 },
 "nbformat": 4,
 "nbformat_minor": 2
}
